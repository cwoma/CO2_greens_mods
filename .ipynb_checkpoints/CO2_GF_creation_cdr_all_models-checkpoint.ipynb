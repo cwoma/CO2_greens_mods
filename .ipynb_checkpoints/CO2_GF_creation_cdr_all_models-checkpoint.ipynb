{
 "cells": [
  {
   "cell_type": "code",
   "execution_count": 108,
   "metadata": {},
   "outputs": [
    {
     "name": "stdout",
     "output_type": "stream",
     "text": [
      "The autoreload extension is already loaded. To reload it, use:\n",
      "  %reload_ext autoreload\n"
     ]
    }
   ],
   "source": [
    "%matplotlib inline\n",
    "\n",
    "%matplotlib inline\n",
    "%load_ext autoreload\n",
    "%autoreload 2\n",
    "\n",
    "\n",
    "import xarray as xr\n",
    "import pandas as pd\n",
    "import matplotlib.pyplot as plt\n",
    "import numpy as np\n",
    "import cftime\n",
    "import dask\n",
    "import xarrayutils\n",
    "import cartopy.crs as ccrs\n",
    "from xmip.preprocessing import combined_preprocessing\n",
    "from xmip.preprocessing import replace_x_y_nominal_lat_lon\n",
    "from xmip.drift_removal import replace_time\n",
    "from xmip.postprocessing import concat_experiments\n",
    "import xmip.drift_removal as xm_dr\n",
    "import xmip as xm\n",
    "import xesmf as xe\n",
    "import datetime\n",
    "from datetime import timedelta\n",
    "from dateutil.relativedelta import relativedelta\n",
    "\n",
    "import utils\n"
   ]
  },
  {
   "cell_type": "code",
   "execution_count": 109,
   "metadata": {},
   "outputs": [
    {
     "data": {
      "text/plain": [
       "<dask.config.set at 0x2adde6a4e220>"
      ]
     },
     "execution_count": 109,
     "metadata": {},
     "output_type": "execute_result"
    }
   ],
   "source": [
    "dask.config.set(**{'array.slicing.split_large_chunks': True})"
   ]
  },
  {
   "cell_type": "markdown",
   "metadata": {},
   "source": [
    "## Functions"
   ]
  },
  {
   "cell_type": "code",
   "execution_count": 110,
   "metadata": {},
   "outputs": [],
   "source": [
    "########## WEIGHT YOUR MEAN BY MONTH LENGTH ########## "
   ]
  },
  {
   "cell_type": "code",
   "execution_count": 111,
   "metadata": {},
   "outputs": [],
   "source": [
    "#### function to find area of a grid cell from lat/lon ####\n",
    "def find_area(ds, R = 6378.1):\n",
    "    \"\"\" ds is the dataset, i is the number of longitudes to assess, j is the number of latitudes, and R is the radius of the earth in km. \n",
    "    Must have the ds['lat'] in descending order (90...-90)\n",
    "    Returns Area of Grid cell in km\"\"\"\n",
    "    circumference = (2*np.pi)*R\n",
    "    deg_to_m = (circumference/360) \n",
    "    dy = (ds['lat_b'].roll({'lat_b':-1}, roll_coords = False) - ds['lat_b'])[:-1]*deg_to_m\n",
    "\n",
    "    dx1 = (ds['lon_b'].roll({'lon_b':-1}, roll_coords = False) - \n",
    "           ds['lon_b'])[:-1]*deg_to_m*np.cos(np.deg2rad(ds['lat_b']))\n",
    "    \n",
    "    dx2 = (ds['lon_b'].roll({'lon_b':-1}, roll_coords = False) - \n",
    "           ds['lon_b'])[:-1]*deg_to_m*np.cos(np.deg2rad(ds['lat_b'].roll({'lat_b':-1}, roll_coords = False)[:-1]))\n",
    "    \n",
    "    A = .5*(dx1+dx2)*dy\n",
    "    \n",
    "    #### assign new lat and lon coords based on the center of the grid box instead of edges ####\n",
    "    A = A.assign_coords(lon_b = ds.lon.values,\n",
    "                    lat_b = ds.lat.values)\n",
    "    A = A.rename({'lon_b':'lon','lat_b':'lat'})\n",
    "\n",
    "    A = A.transpose()\n",
    "    \n",
    "    return(A)"
   ]
  },
  {
   "cell_type": "code",
   "execution_count": 112,
   "metadata": {},
   "outputs": [],
   "source": [
    "#define our output grid size\n",
    "\n",
    "ds_out = xr.Dataset(\n",
    "    {\n",
    "        \"lat\": ([\"lat\"], np.arange(-89.5, 90.5, 1.0)),\n",
    "        \"lon\": ([\"lon\"], np.arange(0, 360, 1)),\n",
    "        \"lat_b\": ([\"lat_b\"], np.arange(-90.,91.,1.0)),\n",
    "        \"lon_b\":([\"lon_b\"], np.arange(.5, 361.5, 1.0))\n",
    "    }\n",
    ")"
   ]
  },
  {
   "cell_type": "markdown",
   "metadata": {},
   "source": [
    "## Data\n",
    "\n",
    "Data for this is from https://gmd.copernicus.org/articles/11/1133/2018/ CDRMIP data, where pi-CO2pulse is the 100GtC pulse and piControl is the control"
   ]
  },
  {
   "cell_type": "markdown",
   "metadata": {},
   "source": [
    "### Notes on data\n",
    "ACCESS: 10 years of pi control on the co2pulse run; take G 10 years in\n",
    "\n",
    "GFDL: pi control run for 100 years before pulse, co2pulse run starts at 100 years in without any picontrol data\n",
    "\n",
    "UKESM1: 10 years of pi control on the co2pulse run; take G 10 years in\n",
    "\n",
    "MIROC: co2pulse starts 10 years after pi control, but doesn't include that in its data\n",
    "\n",
    "NORESM2: picontrol starts in 1851 and co2pulse starts in 1850, both should start in 1851 according to documentation\n",
    "\n",
    "CanESM5 (p2): picontrol is at 5601, but was branched at 5301; co2pulse was branched at 5401;line up by moving picontrol dt to start at 5301"
   ]
  },
  {
   "cell_type": "code",
   "execution_count": 113,
   "metadata": {},
   "outputs": [],
   "source": [
    "model_run_pulse_dict = utils.model_run_pulse_dict\n",
    "model_run_1pct_dict = utils.model_run_1pct_dict\n",
    "model_run_control_dict = utils.model_run_esm_picontrol_dict\n"
   ]
  },
  {
   "cell_type": "code",
   "execution_count": 114,
   "metadata": {},
   "outputs": [],
   "source": [
    "#define our output grid size\n",
    "\n",
    "ds_out = xr.Dataset(\n",
    "    {\n",
    "        \"lat\": ([\"lat\"], np.arange(-89.5, 90.5, 1.0)),\n",
    "        \"lon\": ([\"lon\"], np.arange(0, 360, 1)),\n",
    "        \"lat_b\": ([\"lat_b\"], np.arange(-90.,91.,1.0)),\n",
    "        \"lon_b\":([\"lon_b\"], np.arange(.5, 361.5, 1.0))\n",
    "    }\n",
    ")"
   ]
  },
  {
   "cell_type": "code",
   "execution_count": 115,
   "metadata": {},
   "outputs": [],
   "source": [
    "A = find_area(ds_out)"
   ]
  },
  {
   "cell_type": "code",
   "execution_count": 116,
   "metadata": {},
   "outputs": [
    {
     "data": {
      "text/plain": [
       "dict_keys(['UKESM1_r1', 'MIROC', 'NORESM2', 'ACCESS', 'GFDL', 'CANESM5_r1p2', 'CANESM5_r1p1'])"
      ]
     },
     "execution_count": 116,
     "metadata": {},
     "output_type": "execute_result"
    }
   ],
   "source": [
    "model_run_control_dict.keys()"
   ]
  },
  {
   "cell_type": "code",
   "execution_count": 117,
   "metadata": {},
   "outputs": [
    {
     "data": {
      "text/plain": [
       "dict_keys(['UKESM1_r1', 'MIROC', 'NORESM2', 'ACCESS', 'GFDL', 'CANESM5_r1p2', 'CANESM5_r2p2', 'CANESM5_r3p2'])"
      ]
     },
     "execution_count": 117,
     "metadata": {},
     "output_type": "execute_result"
    }
   ],
   "source": [
    "model_run_pulse_dict.keys()"
   ]
  },
  {
   "cell_type": "code",
   "execution_count": 119,
   "metadata": {
    "tags": []
   },
   "outputs": [
    {
     "name": "stdout",
     "output_type": "stream",
     "text": [
      "UKESM1_r1 UKESM1_r1\n",
      "UKESM1_r1\n",
      "time fixing\n",
      "time match up\n",
      "replace xy\n"
     ]
    },
    {
     "name": "stderr",
     "output_type": "stream",
     "text": [
      "/home/emfreese/anaconda3/envs/gchp/lib/python3.9/site-packages/xesmf/backend.py:38: UserWarning: Input array is not F_CONTIGUOUS. Will affect performance.\n",
      "  warnings.warn('Input array is not F_CONTIGUOUS. ' 'Will affect performance.')\n",
      "/home/emfreese/anaconda3/envs/gchp/lib/python3.9/site-packages/xesmf/frontend.py:555: FutureWarning: ``output_sizes`` should be given in the ``dask_gufunc_kwargs`` parameter. It will be removed as direct parameter in a future version.\n",
      "  ds_out = xr.apply_ufunc(\n",
      "/home/emfreese/anaconda3/envs/gchp/lib/python3.9/site-packages/xesmf/backend.py:38: UserWarning: Input array is not F_CONTIGUOUS. Will affect performance.\n",
      "  warnings.warn('Input array is not F_CONTIGUOUS. ' 'Will affect performance.')\n",
      "/home/emfreese/anaconda3/envs/gchp/lib/python3.9/site-packages/xesmf/frontend.py:555: FutureWarning: ``output_sizes`` should be given in the ``dask_gufunc_kwargs`` parameter. It will be removed as direct parameter in a future version.\n",
      "  ds_out = xr.apply_ufunc(\n"
     ]
    },
    {
     "name": "stdout",
     "output_type": "stream",
     "text": [
      "MIROC MIROC\n",
      "MIROC\n",
      "time fixing\n",
      "time match up\n",
      "replace xy\n"
     ]
    },
    {
     "name": "stderr",
     "output_type": "stream",
     "text": [
      "/home/emfreese/anaconda3/envs/gchp/lib/python3.9/site-packages/xesmf/backend.py:38: UserWarning: Input array is not F_CONTIGUOUS. Will affect performance.\n",
      "  warnings.warn('Input array is not F_CONTIGUOUS. ' 'Will affect performance.')\n",
      "/home/emfreese/anaconda3/envs/gchp/lib/python3.9/site-packages/xesmf/frontend.py:555: FutureWarning: ``output_sizes`` should be given in the ``dask_gufunc_kwargs`` parameter. It will be removed as direct parameter in a future version.\n",
      "  ds_out = xr.apply_ufunc(\n",
      "/home/emfreese/anaconda3/envs/gchp/lib/python3.9/site-packages/xesmf/backend.py:38: UserWarning: Input array is not F_CONTIGUOUS. Will affect performance.\n",
      "  warnings.warn('Input array is not F_CONTIGUOUS. ' 'Will affect performance.')\n",
      "/home/emfreese/anaconda3/envs/gchp/lib/python3.9/site-packages/xesmf/frontend.py:555: FutureWarning: ``output_sizes`` should be given in the ``dask_gufunc_kwargs`` parameter. It will be removed as direct parameter in a future version.\n",
      "  ds_out = xr.apply_ufunc(\n"
     ]
    },
    {
     "name": "stdout",
     "output_type": "stream",
     "text": [
      "NORESM2 NORESM2\n",
      "NORESM2\n",
      "time fixing\n",
      "time match up\n",
      "replace xy\n"
     ]
    },
    {
     "name": "stderr",
     "output_type": "stream",
     "text": [
      "/home/emfreese/anaconda3/envs/gchp/lib/python3.9/site-packages/xesmf/backend.py:38: UserWarning: Input array is not F_CONTIGUOUS. Will affect performance.\n",
      "  warnings.warn('Input array is not F_CONTIGUOUS. ' 'Will affect performance.')\n",
      "/home/emfreese/anaconda3/envs/gchp/lib/python3.9/site-packages/xesmf/frontend.py:555: FutureWarning: ``output_sizes`` should be given in the ``dask_gufunc_kwargs`` parameter. It will be removed as direct parameter in a future version.\n",
      "  ds_out = xr.apply_ufunc(\n",
      "/home/emfreese/anaconda3/envs/gchp/lib/python3.9/site-packages/xesmf/backend.py:38: UserWarning: Input array is not F_CONTIGUOUS. Will affect performance.\n",
      "  warnings.warn('Input array is not F_CONTIGUOUS. ' 'Will affect performance.')\n",
      "/home/emfreese/anaconda3/envs/gchp/lib/python3.9/site-packages/xesmf/frontend.py:555: FutureWarning: ``output_sizes`` should be given in the ``dask_gufunc_kwargs`` parameter. It will be removed as direct parameter in a future version.\n",
      "  ds_out = xr.apply_ufunc(\n"
     ]
    },
    {
     "name": "stdout",
     "output_type": "stream",
     "text": [
      "ACCESS ACCESS\n",
      "ACCESS\n",
      "time fixing\n",
      "time match up\n",
      "replace xy\n"
     ]
    },
    {
     "name": "stderr",
     "output_type": "stream",
     "text": [
      "/home/emfreese/anaconda3/envs/gchp/lib/python3.9/site-packages/xesmf/backend.py:38: UserWarning: Input array is not F_CONTIGUOUS. Will affect performance.\n",
      "  warnings.warn('Input array is not F_CONTIGUOUS. ' 'Will affect performance.')\n",
      "/home/emfreese/anaconda3/envs/gchp/lib/python3.9/site-packages/xesmf/frontend.py:555: FutureWarning: ``output_sizes`` should be given in the ``dask_gufunc_kwargs`` parameter. It will be removed as direct parameter in a future version.\n",
      "  ds_out = xr.apply_ufunc(\n",
      "/home/emfreese/anaconda3/envs/gchp/lib/python3.9/site-packages/xesmf/backend.py:38: UserWarning: Input array is not F_CONTIGUOUS. Will affect performance.\n",
      "  warnings.warn('Input array is not F_CONTIGUOUS. ' 'Will affect performance.')\n",
      "/home/emfreese/anaconda3/envs/gchp/lib/python3.9/site-packages/xesmf/frontend.py:555: FutureWarning: ``output_sizes`` should be given in the ``dask_gufunc_kwargs`` parameter. It will be removed as direct parameter in a future version.\n",
      "  ds_out = xr.apply_ufunc(\n"
     ]
    },
    {
     "name": "stdout",
     "output_type": "stream",
     "text": [
      "GFDL GFDL\n",
      "GFDL\n",
      "time fixing\n",
      "time match up\n",
      "replace xy\n"
     ]
    },
    {
     "name": "stderr",
     "output_type": "stream",
     "text": [
      "/home/emfreese/anaconda3/envs/gchp/lib/python3.9/site-packages/xesmf/backend.py:38: UserWarning: Input array is not F_CONTIGUOUS. Will affect performance.\n",
      "  warnings.warn('Input array is not F_CONTIGUOUS. ' 'Will affect performance.')\n",
      "/home/emfreese/anaconda3/envs/gchp/lib/python3.9/site-packages/xesmf/frontend.py:555: FutureWarning: ``output_sizes`` should be given in the ``dask_gufunc_kwargs`` parameter. It will be removed as direct parameter in a future version.\n",
      "  ds_out = xr.apply_ufunc(\n",
      "/home/emfreese/anaconda3/envs/gchp/lib/python3.9/site-packages/xesmf/backend.py:38: UserWarning: Input array is not F_CONTIGUOUS. Will affect performance.\n",
      "  warnings.warn('Input array is not F_CONTIGUOUS. ' 'Will affect performance.')\n",
      "/home/emfreese/anaconda3/envs/gchp/lib/python3.9/site-packages/xesmf/frontend.py:555: FutureWarning: ``output_sizes`` should be given in the ``dask_gufunc_kwargs`` parameter. It will be removed as direct parameter in a future version.\n",
      "  ds_out = xr.apply_ufunc(\n"
     ]
    },
    {
     "name": "stdout",
     "output_type": "stream",
     "text": [
      "CANESM5_r1p2 CANESM5_r1p2\n",
      "CANESM5_r1p2\n",
      "time fixing\n",
      "time match up\n",
      "replace xy\n"
     ]
    },
    {
     "name": "stderr",
     "output_type": "stream",
     "text": [
      "/home/emfreese/anaconda3/envs/gchp/lib/python3.9/site-packages/xesmf/backend.py:38: UserWarning: Input array is not F_CONTIGUOUS. Will affect performance.\n",
      "  warnings.warn('Input array is not F_CONTIGUOUS. ' 'Will affect performance.')\n",
      "/home/emfreese/anaconda3/envs/gchp/lib/python3.9/site-packages/xesmf/frontend.py:555: FutureWarning: ``output_sizes`` should be given in the ``dask_gufunc_kwargs`` parameter. It will be removed as direct parameter in a future version.\n",
      "  ds_out = xr.apply_ufunc(\n",
      "/home/emfreese/anaconda3/envs/gchp/lib/python3.9/site-packages/xesmf/backend.py:38: UserWarning: Input array is not F_CONTIGUOUS. Will affect performance.\n",
      "  warnings.warn('Input array is not F_CONTIGUOUS. ' 'Will affect performance.')\n",
      "/home/emfreese/anaconda3/envs/gchp/lib/python3.9/site-packages/xesmf/frontend.py:555: FutureWarning: ``output_sizes`` should be given in the ``dask_gufunc_kwargs`` parameter. It will be removed as direct parameter in a future version.\n",
      "  ds_out = xr.apply_ufunc(\n"
     ]
    },
    {
     "name": "stdout",
     "output_type": "stream",
     "text": [
      "CANESM5_r1p2 CANESM5_r2p2\n",
      "CANESM5_r2p2\n",
      "time fixing\n",
      "time match up\n",
      "replace xy\n"
     ]
    },
    {
     "name": "stderr",
     "output_type": "stream",
     "text": [
      "/home/emfreese/anaconda3/envs/gchp/lib/python3.9/site-packages/xesmf/backend.py:38: UserWarning: Input array is not F_CONTIGUOUS. Will affect performance.\n",
      "  warnings.warn('Input array is not F_CONTIGUOUS. ' 'Will affect performance.')\n",
      "/home/emfreese/anaconda3/envs/gchp/lib/python3.9/site-packages/xesmf/frontend.py:555: FutureWarning: ``output_sizes`` should be given in the ``dask_gufunc_kwargs`` parameter. It will be removed as direct parameter in a future version.\n",
      "  ds_out = xr.apply_ufunc(\n",
      "/home/emfreese/anaconda3/envs/gchp/lib/python3.9/site-packages/xesmf/backend.py:38: UserWarning: Input array is not F_CONTIGUOUS. Will affect performance.\n",
      "  warnings.warn('Input array is not F_CONTIGUOUS. ' 'Will affect performance.')\n",
      "/home/emfreese/anaconda3/envs/gchp/lib/python3.9/site-packages/xesmf/frontend.py:555: FutureWarning: ``output_sizes`` should be given in the ``dask_gufunc_kwargs`` parameter. It will be removed as direct parameter in a future version.\n",
      "  ds_out = xr.apply_ufunc(\n"
     ]
    },
    {
     "name": "stdout",
     "output_type": "stream",
     "text": [
      "CANESM5_r1p2 CANESM5_r3p2\n",
      "CANESM5_r3p2\n",
      "time fixing\n",
      "time match up\n",
      "replace xy\n"
     ]
    },
    {
     "name": "stderr",
     "output_type": "stream",
     "text": [
      "/home/emfreese/anaconda3/envs/gchp/lib/python3.9/site-packages/xesmf/backend.py:38: UserWarning: Input array is not F_CONTIGUOUS. Will affect performance.\n",
      "  warnings.warn('Input array is not F_CONTIGUOUS. ' 'Will affect performance.')\n",
      "/home/emfreese/anaconda3/envs/gchp/lib/python3.9/site-packages/xesmf/frontend.py:555: FutureWarning: ``output_sizes`` should be given in the ``dask_gufunc_kwargs`` parameter. It will be removed as direct parameter in a future version.\n",
      "  ds_out = xr.apply_ufunc(\n",
      "/home/emfreese/anaconda3/envs/gchp/lib/python3.9/site-packages/xesmf/backend.py:38: UserWarning: Input array is not F_CONTIGUOUS. Will affect performance.\n",
      "  warnings.warn('Input array is not F_CONTIGUOUS. ' 'Will affect performance.')\n",
      "/home/emfreese/anaconda3/envs/gchp/lib/python3.9/site-packages/xesmf/frontend.py:555: FutureWarning: ``output_sizes`` should be given in the ``dask_gufunc_kwargs`` parameter. It will be removed as direct parameter in a future version.\n",
      "  ds_out = xr.apply_ufunc(\n"
     ]
    }
   ],
   "source": [
    "ds_control = {}\n",
    "ds_pulse = {}\n",
    "G = {}\n",
    "\n",
    "# anom_control = {}\n",
    "# anom_pulse = {}\n",
    "# anom_G = {}\n",
    "for m1 in model_run_pulse_dict.keys():\n",
    "    if m1 == 'CANESM5_r1p2' or m1 == 'CANESM5_r2p2' or m1 == 'CANESM5_r3p2':\n",
    "        m2 = 'CANESM5_r1p2'\n",
    "    else:\n",
    "        m2 = m1\n",
    "    print(m2, m1)\n",
    "    ds_control[m1], ds_pulse[m1], G[m1] = utils.import_regrid_calc(f'cmip6_data/tas_Amon_{model_run_control_dict[m2]}', \n",
    "                                                 f'cmip6_data/tas_Amon_{model_run_pulse_dict[m1]}', \n",
    "                                                 ds_out, variable = 'tas', m = m1, pulse_size = 100, replace_xy = True)\n",
    "#     anom_control[m], anom_pulse[m], anom_G[m] = utils.import_regrid_calc(f'cmip6_data/tas_Amon_{model_run_control_dict[m]}', \n",
    "#                                                  f'cmip6_data/tas_Amon_{model_run_pulse_dict[m]}', \n",
    "#                                                  ds_out, variable = 'tas', pulse_size = 100, anomaly = True)"
   ]
  },
  {
   "cell_type": "code",
   "execution_count": 120,
   "metadata": {},
   "outputs": [],
   "source": [
    "# ds_test_out = xr.Dataset(\n",
    "#     {\n",
    "#         \"lat\": ([\"lat\"], np.arange(-89.375, 90.625, 1.25)),\n",
    "#         \"lon\": ([\"lon\"], np.arange(0.9375, 360.9375, 1.875)),\n",
    "#         \"lat_b\": ([\"lat_b\"], np.arange(-90.,91.25,1.25)),\n",
    "#         \"lon_b\":([\"lon_b\"], np.arange(0, 361.875, 1.875))\n",
    "#     }\n",
    "# )\n",
    "# A_test = find_area(ds_test_out)\n",
    "# m = 'CANESM5_r1p2'\n",
    "# ds_control = xr.open_mfdataset(f'cmip6_data/tas_Amon_{model_run_control_dict[m]}', preprocess = combined_preprocessing, use_cftime=True)\n",
    "# ds_pulse = xr.open_mfdataset(f'cmip6_data/tas_Amon_{model_run_pulse_dict[m]}', preprocess = combined_preprocessing, use_cftime=True)\n",
    "# [k for k in zip(ds_control.attrs.values(), ds_pulse.attrs.values()) if k[0]!=k[1]]\n",
    "# A_test = A_test.rename({'lat':'y','lon':'x'})\n",
    "# fig,ax = plt.subplots(figsize = [15,5])\n",
    "# plt.plot(np.arange(0,len(ds_pulse.time)), (ds_pulse - ds_control)['tas'].weighted(A_test).mean(dim = ['x','y']))\n",
    "# plt.plot(np.arange(0,len(ds_cdr.time)), -(ds_cdr - ds_control)['tas'].weighted(A_test).mean(dim = ['x','y']))\n",
    "# plt.plot(np.arange(0,len(ds_pulse.time)), 0.5*(ds_pulse - ds_cdr)['tas'].weighted(A_test).mean(dim = ['x','y']))\n",
    "\n",
    "\n",
    "# #plt.plot(np.arange(0,len(ds_pulse.time)), ds_pulse['tas'].weighted(A_test).mean(dim = ['x','y']))\n",
    "# plt.axvline(x = 120, color = 'k', linewidth = 2)\n",
    "# plt.xlim(0,500)\n"
   ]
  },
  {
   "cell_type": "code",
   "execution_count": 121,
   "metadata": {},
   "outputs": [],
   "source": [
    "base = datetime.datetime.strptime(\"2000\", \"%Y\")\n",
    "for m in G.keys():\n",
    "    G[m]['year'] = [base + relativedelta(years=x) for x in range(len(G[m]['year']))]\n",
    "   # anom_G[m]['year'] = [base + relativedelta(years=x) for x in range(len(anom_G[m]['year']))]"
   ]
  },
  {
   "cell_type": "code",
   "execution_count": 122,
   "metadata": {},
   "outputs": [],
   "source": [
    "G_ds = xr.concat([G[m] for m in G.keys()], pd.Index([m for m in G.keys()], name='model'))\n",
    "#anom_G_ds = xr.concat([anom_G[m] for m in anom_G.keys()], pd.Index([m for m in anom_G.keys()], name='model'))"
   ]
  },
  {
   "cell_type": "code",
   "execution_count": 123,
   "metadata": {},
   "outputs": [],
   "source": [
    "G_mean_ds = G_ds.mean(dim = 'model')\n",
    "#anom_G_mean_ds = anom_G_ds.mean(dim = 'model')"
   ]
  },
  {
   "cell_type": "markdown",
   "metadata": {},
   "source": [
    "## Save Green's Functions"
   ]
  },
  {
   "cell_type": "code",
   "execution_count": 124,
   "metadata": {},
   "outputs": [],
   "source": [
    "G_ds.to_netcdf('Outputs/G_ds.nc4')\n",
    "G_mean_ds.to_netcdf('Outputs/G_mean_ds.nc4')\n",
    "\n",
    "# anom_G_ds.to_netcdf('Outputs/anom_G_ds.nc4')\n",
    "# anom_G_mean_ds.to_netcdf('Outputs/anom_G_mean_ds.nc4')"
   ]
  },
  {
   "cell_type": "code",
   "execution_count": null,
   "metadata": {},
   "outputs": [],
   "source": []
  }
 ],
 "metadata": {
  "kernelspec": {
   "display_name": "Python (gchp)",
   "language": "python",
   "name": "gchp"
  },
  "language_info": {
   "codemirror_mode": {
    "name": "ipython",
    "version": 3
   },
   "file_extension": ".py",
   "mimetype": "text/x-python",
   "name": "python",
   "nbconvert_exporter": "python",
   "pygments_lexer": "ipython3",
   "version": "3.9.10"
  }
 },
 "nbformat": 4,
 "nbformat_minor": 4
}
