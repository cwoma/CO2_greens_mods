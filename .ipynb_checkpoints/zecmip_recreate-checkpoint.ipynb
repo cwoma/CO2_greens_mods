{
 "cells": [
  {
   "cell_type": "code",
   "execution_count": 1,
   "id": "dad2b50a-c79b-47b0-8f48-db7139c60163",
   "metadata": {},
   "outputs": [],
   "source": [
    "%matplotlib inline\n",
    "\n",
    "%matplotlib inline\n",
    "%load_ext autoreload\n",
    "%autoreload 2\n",
    "\n",
    "import xarray as xr\n",
    "import pandas as pd\n",
    "import matplotlib.pyplot as plt\n",
    "import numpy as np\n",
    "import cftime\n",
    "import dask\n",
    "import xarrayutils\n",
    "import cartopy.crs as ccrs\n",
    "from xmip.preprocessing import combined_preprocessing\n",
    "from xmip.preprocessing import replace_x_y_nominal_lat_lon\n",
    "from xmip.drift_removal import replace_time\n",
    "from xmip.postprocessing import concat_experiments\n",
    "import xmip.drift_removal as xm_dr\n",
    "import xmip as xm\n",
    "import xesmf as xe\n",
    "import datetime\n",
    "from dateutil.relativedelta import relativedelta\n",
    "import utils\n",
    "\n",
    "import scipy.signal as signal"
   ]
  },
  {
   "cell_type": "code",
   "execution_count": 2,
   "id": "ff3dcdc8-e24e-4c63-8047-c7672f4c9056",
   "metadata": {},
   "outputs": [],
   "source": [
    "G_ds = xr.open_dataset('Outputs/G_ds.nc4')['tas']\n",
    "G_mean_ds = xr.open_dataset('Outputs/G_mean_ds.nc4')['tas']\n"
   ]
  },
  {
   "cell_type": "code",
   "execution_count": 3,
   "id": "3b2a9216-c1c5-40fa-a59b-9ca4aac830f5",
   "metadata": {},
   "outputs": [],
   "source": [
    "ds_out = xr.Dataset(\n",
    "    {\n",
    "        \"lat\": ([\"lat\"], np.arange(-89.5, 90.5, 1.0)),\n",
    "        \"lon\": ([\"lon\"], np.arange(0, 360, 1)),\n",
    "        \"lat_b\": ([\"lat_b\"], np.arange(-90.,91.,1.0)),\n",
    "        \"lon_b\":([\"lon_b\"], np.arange(.5, 361.5, 1.0))\n",
    "    }\n",
    ")\n",
    "A = utils.find_area(ds_out)"
   ]
  },
  {
   "cell_type": "code",
   "execution_count": 4,
   "id": "dc6aad00-4dec-4845-b362-8472d481f8f4",
   "metadata": {},
   "outputs": [],
   "source": [
    "GFDL_mod= G_ds.weighted(A).mean(dim = ['lat','lon']).sel(model = 'GFDL')"
   ]
  },
  {
   "cell_type": "code",
   "execution_count": 5,
   "id": "06e8972a-e8e0-4d36-88a8-245cd0009ce7",
   "metadata": {},
   "outputs": [],
   "source": [
    "tas_pct = pd.read_csv('zecmip_data/tas_GFDL-ESM2M_esm-bell-750PgC_1861_2360.csv', header = None, index_col = 0)\n",
    "nbp_pct = pd.read_csv('zecmip_data/nbp_GFDL-ESM2M_esm-bell-750PgC_1861_2360.csv', header = None, index_col = 0)\n",
    "co2_pct = pd.read_csv('zecmip_data/co2_GFDL-ESM2M_esm-bell-750PgC_1861_2360.csv', header = None, index_col = 0)\n",
    "fgco2_pct = pd.read_csv('zecmip_data/fgco2_GFDL-ESM2M_esm-bell-750PgC_1861_2360.csv', header = None, index_col = 0)"
   ]
  },
  {
   "cell_type": "code",
   "execution_count": 6,
   "id": "bc884093-5fd3-4334-a7dd-8408498dd13f",
   "metadata": {},
   "outputs": [],
   "source": [
    "fg_co2_pictrl_ds = xr.open_mfdataset('cmip6_data/fgco2_Omon_GFDL-ESM4_esm-piControl*')\n",
    "nbp_pictrl_ds = xr.open_mfdataset('cmip6_data/nbp_Lmon_GFDL-ESM4_esm-piControl*')\n",
    "co2_pictrl_ds = xr.open_mfdataset('cmip6_data/co2_Amon_GFDL-ESM4_esm-piControl*')\n",
    "tas_pictrl_ds = xr.open_mfdataset('cmip6_data/tas_Amon_GFDL-ESM4_esm-piControl*')"
   ]
  },
  {
   "cell_type": "code",
   "execution_count": null,
   "id": "892ff27d-8a25-4858-b642-83c54773fa3c",
   "metadata": {},
   "outputs": [],
   "source": [
    "###### CONVERT FROM PPM!!!!!!!!!!!!#############\n"
   ]
  },
  {
   "cell_type": "code",
   "execution_count": 7,
   "id": "c2dbe853-5f29-42f6-b064-f81dc42c7e0f",
   "metadata": {
    "tags": []
   },
   "outputs": [
    {
     "name": "stderr",
     "output_type": "stream",
     "text": [
      "/home/emfreese/anaconda3/envs/gchp/lib/python3.9/site-packages/xesmf/frontend.py:555: FutureWarning: ``output_sizes`` should be given in the ``dask_gufunc_kwargs`` parameter. It will be removed as direct parameter in a future version.\n",
      "  ds_out = xr.apply_ufunc(\n",
      "/home/emfreese/anaconda3/envs/gchp/lib/python3.9/site-packages/xesmf/frontend.py:555: FutureWarning: ``output_sizes`` should be given in the ``dask_gufunc_kwargs`` parameter. It will be removed as direct parameter in a future version.\n",
      "  ds_out = xr.apply_ufunc(\n",
      "/home/emfreese/anaconda3/envs/gchp/lib/python3.9/site-packages/xesmf/frontend.py:555: FutureWarning: ``output_sizes`` should be given in the ``dask_gufunc_kwargs`` parameter. It will be removed as direct parameter in a future version.\n",
      "  ds_out = xr.apply_ufunc(\n",
      "/home/emfreese/anaconda3/envs/gchp/lib/python3.9/site-packages/xesmf/frontend.py:555: FutureWarning: ``output_sizes`` should be given in the ``dask_gufunc_kwargs`` parameter. It will be removed as direct parameter in a future version.\n",
      "  ds_out = xr.apply_ufunc(\n"
     ]
    }
   ],
   "source": [
    "#define our output grid size\n",
    "\n",
    "ds_out = xr.Dataset(\n",
    "    {\n",
    "        \"lat\": ([\"lat\"], np.arange(-89.5, 90.5, 1.0)),\n",
    "        \"lon\": ([\"lon\"], np.arange(0, 360, 1)),\n",
    "        \"lat_b\": ([\"lat_b\"], np.arange(-90.,91.,1.0)),\n",
    "        \"lon_b\":([\"lon_b\"], np.arange(.5, 361.5, 1.0))\n",
    "    }\n",
    ")\n",
    "\n",
    "fg_co2_pictrl_ds = utils._regrid_ds(fg_co2_pictrl_ds, ds_out)\n",
    "nbp_pictrl_ds = utils._regrid_ds(nbp_pictrl_ds, ds_out)\n",
    "co2_pictrl_ds = utils._regrid_ds(co2_pictrl_ds, ds_out)\n",
    "tas_pictrl_ds = utils._regrid_ds(tas_pictrl_ds, ds_out)"
   ]
  },
  {
   "cell_type": "code",
   "execution_count": 8,
   "id": "51c7055e-3ed7-420a-a060-c770b7625beb",
   "metadata": {},
   "outputs": [],
   "source": [
    "co2_pictrl_ds = co2_pictrl_ds.weighted(A).mean(dim = ['lat','lon']).sum(['plev'])\n",
    "nbp_pictrl_ds = nbp_pictrl_ds.weighted(A).sum(dim = ['lat','lon'])\n",
    "fg_co2_pictrl_ds = fg_co2_pictrl_ds.weighted(A).sum(dim = ['lat','lon'])\n",
    "tas_pictrl_ds = tas_pictrl_ds.weighted(A).mean(dim = ['lat','lon'])"
   ]
  },
  {
   "cell_type": "code",
   "execution_count": 9,
   "id": "7e6855c7-8a9c-409f-b131-bd7ef5cba2a5",
   "metadata": {},
   "outputs": [],
   "source": [
    "emis_pictrl = co2_pictrl_ds['co2'] + nbp_pictrl_ds['nbp'] + fg_co2_pictrl_ds['fgco2']"
   ]
  },
  {
   "cell_type": "code",
   "execution_count": 10,
   "id": "7e127683-0abf-4963-b695-6c4ff7c52ab3",
   "metadata": {},
   "outputs": [],
   "source": [
    "emis_1pct = co2_pct + nbp_pct + fgco2_pct"
   ]
  },
  {
   "cell_type": "code",
   "execution_count": 11,
   "id": "4df9343d-d494-475f-b9b8-626268b5e553",
   "metadata": {
    "tags": []
   },
   "outputs": [],
   "source": [
    "times = pd.date_range('2000', periods=len(tas_pictrl_ds['time'][:12*100]), freq='MS')\n",
    "weights = times.shift(1, 'MS') - times\n",
    "weights = xr.DataArray(weights, [('time', tas_pictrl_ds['time'][:12*100].values)]).astype('float')\n"
   ]
  },
  {
   "cell_type": "code",
   "execution_count": 12,
   "id": "cadbcf0b-4109-4d55-bfd3-94a8c342e06d",
   "metadata": {},
   "outputs": [],
   "source": [
    "tas_pictrl_ds = (tas_pictrl_ds*weights).groupby('time.year').sum('time')/weights.groupby('time.year').sum('time')"
   ]
  },
  {
   "cell_type": "code",
   "execution_count": 13,
   "id": "cdea0e9a-54b5-4c76-810a-62ecb1f8580d",
   "metadata": {},
   "outputs": [],
   "source": [
    "emis_pictrl = (emis_pictrl*weights).groupby('time.year').sum('time')/weights.groupby('time.year').sum('time')"
   ]
  },
  {
   "cell_type": "code",
   "execution_count": 14,
   "id": "fdb2e503-eff8-4f39-a1a7-5a12831faacf",
   "metadata": {},
   "outputs": [],
   "source": [
    "emis_dif = emis_1pct.iloc[:100][1].values - emis_pictrl.values"
   ]
  },
  {
   "cell_type": "code",
   "execution_count": 54,
   "id": "a81ea68e-2ec2-4ac7-8b8e-f28304e76ff1",
   "metadata": {},
   "outputs": [
    {
     "data": {
      "text/plain": [
       "array([287.23714725, 286.84673515, 287.14025648, 290.52666827,\n",
       "       290.31944818, 288.39692574, 288.62350053, 289.78567707,\n",
       "       290.74632708, 291.1609333 , 289.44650804, 287.26213405,\n",
       "       293.16604438, 290.4354513 , 286.85618008, 292.81912586,\n",
       "       294.47022454, 288.9777854 , 290.49054496, 292.6126703 ,\n",
       "       294.69940276, 298.28435454, 301.49075729, 300.65419765,\n",
       "       303.23797059, 304.1591169 , 304.43148171, 310.02192897,\n",
       "       317.54433168, 310.2165153 , 311.91455766, 314.80126482,\n",
       "       322.35433643, 327.19822927, 331.00035626, 330.17698298,\n",
       "       336.91063144, 340.90048728, 346.99885275, 346.98291137,\n",
       "       345.94960115, 351.59680896, 355.77835224, 360.05017366,\n",
       "       370.51731077, 374.31680094, 372.23521927, 376.82394197,\n",
       "       390.36972885, 397.8466318 , 393.89112765, 395.83493913,\n",
       "       400.82722433, 406.50235057, 416.02185624, 412.69081173,\n",
       "       415.20927008, 420.62520375, 422.76573306, 423.98811894,\n",
       "       423.01523659, 434.62187599, 435.55443466, 426.88363959,\n",
       "       430.94052165, 438.2697011 , 441.55970555, 432.1117128 ,\n",
       "       433.78169781, 436.47080445, 437.41647434, 441.78612565,\n",
       "       436.29707963, 431.57126902, 437.93721118, 432.73642012,\n",
       "       431.57578265, 432.24121478, 436.57987042, 426.540225  ,\n",
       "       423.72932019, 423.35650729, 424.83537839, 423.16267493,\n",
       "       422.9074656 , 422.25854077, 426.99244087, 423.41676467,\n",
       "       415.64947747, 415.48984113, 419.14072071, 414.48672488,\n",
       "       411.67402338, 411.82899686, 416.05219725, 413.37418388,\n",
       "       412.13649024, 412.22777573, 405.16095053, 403.6927485 ])"
      ]
     },
     "execution_count": 54,
     "metadata": {},
     "output_type": "execute_result"
    }
   ],
   "source": [
    "emis_1pct.iloc[:100][1].values"
   ]
  },
  {
   "cell_type": "code",
   "execution_count": 16,
   "id": "d536e09c-7cef-4596-8b1f-978ff0c5356e",
   "metadata": {},
   "outputs": [
    {
     "data": {
      "text/plain": [
       "array([306.38089891, 301.91926471, 289.53691264, 265.73566888,\n",
       "       279.51181113, 302.58725616, 331.14500869, 259.63810828,\n",
       "       259.86692542, 297.65635709, 298.88488018, 266.14220626,\n",
       "       260.40729239, 290.05541563, 326.28775968, 257.05189298,\n",
       "       282.18971012, 312.64051835, 291.30488251, 299.10070423,\n",
       "       285.77873216, 319.93504634, 307.65505537, 284.63759911,\n",
       "       304.4746383 , 323.4454951 , 314.32021219, 313.15181136,\n",
       "       301.46008615, 271.33590365, 333.65609112, 341.13691659,\n",
       "       298.48323548, 304.71668144, 324.50330592, 359.61459702,\n",
       "       294.7923312 , 338.79276055, 370.66102828, 360.50561972,\n",
       "       315.29905879, 329.92385946, 381.98549528, 426.23892254,\n",
       "       357.14223172, 330.75254703, 386.89677023, 379.67968687,\n",
       "       390.81091728, 373.73534952, 391.11281664, 374.81253997,\n",
       "       415.66266966, 426.82179676, 410.9082787 , 420.38074788,\n",
       "       413.30617884, 398.75005453, 415.45343044, 440.32093955,\n",
       "       453.25528958, 409.24703345, 413.24594035, 407.04062075,\n",
       "       446.70482278, 474.00956266, 429.7625574 , 388.2487983 ,\n",
       "       436.37917524, 487.26867761, 466.58365327, 408.40017407,\n",
       "       405.40543371, 458.28147646, 463.86614988, 399.99396971,\n",
       "       383.51901592, 437.74791789, 454.02642074, 471.45095679,\n",
       "       450.61431635, 395.74493717, 395.87338945, 365.45487774,\n",
       "       440.5133726 , 442.84307176, 409.65528788, 409.52437132,\n",
       "       438.37755597, 380.85075227, 413.52493154, 407.86551147,\n",
       "       399.92102387, 429.99250599, 395.20168771, 407.6343703 ,\n",
       "       396.51149638, 417.85463908, 433.6072205 , 404.91501517])"
      ]
     },
     "execution_count": 16,
     "metadata": {},
     "output_type": "execute_result"
    }
   ],
   "source": [
    "emis_dif"
   ]
  },
  {
   "cell_type": "markdown",
   "id": "02533215-f966-420c-aaea-e1d870b5daa6",
   "metadata": {},
   "source": [
    "co2_pictrl_ds['co2'].sum(dim = 'plev').plot()"
   ]
  },
  {
   "cell_type": "markdown",
   "id": "265f3bb3-8d1a-410c-a57c-b7a598c4dfd2",
   "metadata": {},
   "source": [
    "emis_pictrl.values"
   ]
  },
  {
   "cell_type": "markdown",
   "id": "e8e6c4d2-2e8b-48fe-8895-7756fba15f4c",
   "metadata": {},
   "source": [
    "emis_1pct.iloc[:100][1].values"
   ]
  },
  {
   "cell_type": "markdown",
   "id": "e54bb6f4-9782-4c7d-a4c8-2ffd3c554816",
   "metadata": {},
   "source": [
    "emis_dif"
   ]
  },
  {
   "cell_type": "code",
   "execution_count": 17,
   "id": "172e5086-21f0-42a6-bf19-3961bd420038",
   "metadata": {},
   "outputs": [],
   "source": [
    "conv_1pct = signal.convolve(emis_dif, np.array(GFDL_mod), 'full')"
   ]
  },
  {
   "cell_type": "code",
   "execution_count": 18,
   "id": "180bb073-58c4-4225-939c-bf34b37748e0",
   "metadata": {},
   "outputs": [
    {
     "data": {
      "text/plain": [
       "[<matplotlib.lines.Line2D at 0x7f1d10608880>]"
      ]
     },
     "execution_count": 18,
     "metadata": {},
     "output_type": "execute_result"
    },
    {
     "data": {
      "image/png": "[encoded data removed]",
      "text/plain": [
       "<Figure size 432x288 with 1 Axes>"
      ]
     },
     "metadata": {
      "needs_background": "light"
     },
     "output_type": "display_data"
    }
   ],
   "source": [
    "plt.plot(tas_pct.iloc[0:100][1].values - tas_pictrl_ds['tas'].values)"
   ]
  },
  {
   "cell_type": "code",
   "execution_count": 19,
   "id": "f5e66e0e-ccdc-46bd-a20d-c564ccfb0e3f",
   "metadata": {},
   "outputs": [
    {
     "data": {
      "text/plain": [
       "[<matplotlib.lines.Line2D at 0x7f1d105261f0>]"
      ]
     },
     "execution_count": 19,
     "metadata": {},
     "output_type": "execute_result"
    },
    {
     "data": {
      "image/png": "[encoded data removed]",
      "text/plain": [
       "<Figure size 432x288 with 1 Axes>"
      ]
     },
     "metadata": {
      "needs_background": "light"
     },
     "output_type": "display_data"
    }
   ],
   "source": [
    "plt.plot(conv_1pct)\n"
   ]
  },
  {
   "cell_type": "code",
   "execution_count": null,
   "id": "4824fae4-7f9d-4eb9-9f34-35f02c526817",
   "metadata": {},
   "outputs": [],
   "source": []
  }
 ],
 "metadata": {
  "kernelspec": {
   "display_name": "Python 3 (ipykernel)",
   "language": "python",
   "name": "python3"
  },
  "language_info": {
   "codemirror_mode": {
    "name": "ipython",
    "version": 3
   },
   "file_extension": ".py",
   "mimetype": "text/x-python",
   "name": "python",
   "nbconvert_exporter": "python",
   "pygments_lexer": "ipython3",
   "version": "3.9.10"
  }
 },
 "nbformat": 4,
 "nbformat_minor": 5
}
