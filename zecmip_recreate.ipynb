{
 "cells": [
  {
   "cell_type": "code",
   "execution_count": 20,
   "id": "dad2b50a-c79b-47b0-8f48-db7139c60163",
   "metadata": {},
   "outputs": [
    {
     "name": "stdout",
     "output_type": "stream",
     "text": [
      "The autoreload extension is already loaded. To reload it, use:\n",
      "  %reload_ext autoreload\n"
     ]
    }
   ],
   "source": [
    "%matplotlib inline\n",
    "\n",
    "%matplotlib inline\n",
    "%load_ext autoreload\n",
    "%autoreload 2\n",
    "\n",
    "import xarray as xr\n",
    "import pandas as pd\n",
    "import matplotlib.pyplot as plt\n",
    "import numpy as np\n",
    "import cftime\n",
    "import dask\n",
    "import xarrayutils\n",
    "import cartopy.crs as ccrs\n",
    "from xmip.preprocessing import combined_preprocessing\n",
    "from xmip.preprocessing import replace_x_y_nominal_lat_lon\n",
    "from xmip.drift_removal import replace_time\n",
    "from xmip.postprocessing import concat_experiments\n",
    "import xmip.drift_removal as xm_dr\n",
    "import xmip as xm\n",
    "import xesmf as xe\n",
    "import datetime\n",
    "from dateutil.relativedelta import relativedelta\n",
    "import utils\n",
    "\n",
    "import scipy.signal as signal"
   ]
  },
  {
   "cell_type": "code",
   "execution_count": 21,
   "id": "ff3dcdc8-e24e-4c63-8047-c7672f4c9056",
   "metadata": {},
   "outputs": [],
   "source": [
    "G_ds = xr.open_dataset('Outputs/G_ds.nc4')['tas']\n",
    "G_mean_ds = xr.open_dataset('Outputs/G_mean_ds.nc4')['tas']\n"
   ]
  },
  {
   "cell_type": "code",
   "execution_count": 22,
   "id": "3b2a9216-c1c5-40fa-a59b-9ca4aac830f5",
   "metadata": {},
   "outputs": [],
   "source": [
    "ds_out = xr.Dataset(\n",
    "    {\n",
    "        \"lat\": ([\"lat\"], np.arange(-89.5, 90.5, 1.0)),\n",
    "        \"lon\": ([\"lon\"], np.arange(0, 360, 1)),\n",
    "        \"lat_b\": ([\"lat_b\"], np.arange(-90.,91.,1.0)),\n",
    "        \"lon_b\":([\"lon_b\"], np.arange(.5, 361.5, 1.0))\n",
    "    }\n",
    ")\n",
    "A = utils.find_area(ds_out)"
   ]
  },
  {
   "cell_type": "code",
   "execution_count": 23,
   "id": "dc6aad00-4dec-4845-b362-8472d481f8f4",
   "metadata": {},
   "outputs": [],
   "source": [
    "GFDL_mod= G_ds.weighted(A).mean(dim = ['lat','lon']).sel(model = 'GFDL')"
   ]
  },
  {
   "cell_type": "code",
   "execution_count": 49,
   "id": "06e8972a-e8e0-4d36-88a8-245cd0009ce7",
   "metadata": {},
   "outputs": [],
   "source": [
    "tas_pct = pd.read_csv('zecmip_data/tas_GFDL-ESM2M_esm-bell-750PgC_1861_2360.csv', header = None, index_col = 0)\n",
    "nbp_pct = pd.read_csv('zecmip_data/nbp_GFDL-ESM2M_esm-bell-750PgC_1861_2360.csv', header = None, index_col = 0)\n",
    "co2_pct = pd.read_csv('zecmip_data/co2_GFDL-ESM2M_esm-bell-750PgC_1861_2360.csv', header = None, index_col = 0)\n",
    "fgco2_pct = pd.read_csv('zecmip_data/fgco2_GFDL-ESM2M_esm-bell-750PgC_1861_2360.csv', header = None, index_col = 0)"
   ]
  },
  {
   "cell_type": "code",
   "execution_count": 50,
   "id": "bc884093-5fd3-4334-a7dd-8408498dd13f",
   "metadata": {},
   "outputs": [],
   "source": [
    "fg_co2_pictrl_ds = xr.open_mfdataset('cmip6_data/fgco2_Omon_GFDL-ESM4_esm-piControl*')\n",
    "nbp_pictrl_ds = xr.open_mfdataset('cmip6_data/nbp_Lmon_GFDL-ESM4_esm-piControl*')\n",
    "#co2_pictrl_ds = xr.open_mfdataset('cmip6_data/co2_Amon_GFDL-ESM4_esm-piControl*')\n",
    "tas_pictrl_ds = xr.open_mfdataset('cmip6_data/tas_Amon_GFDL-ESM4_esm-piControl*')"
   ]
  },
  {
   "cell_type": "code",
   "execution_count": 51,
   "id": "ea32b9ee-e77e-4933-b8d4-ce699dc9a36b",
   "metadata": {},
   "outputs": [],
   "source": [
    "co2_ppm_to_kg = 2.124 #GtC/ppm"
   ]
  },
  {
   "cell_type": "markdown",
   "id": "b4ab558e-7a89-4459-a6f2-1b313864dbbc",
   "metadata": {},
   "source": [
    "co2_pictrl_ds['co2']*= co2_ppm_to_kg"
   ]
  },
  {
   "cell_type": "code",
   "execution_count": 52,
   "id": "4c610542-9cad-4f93-85b0-3f55fd8e9212",
   "metadata": {},
   "outputs": [],
   "source": [
    "co2_pct*= co2_ppm_to_kg"
   ]
  },
  {
   "cell_type": "code",
   "execution_count": 54,
   "id": "c2dbe853-5f29-42f6-b064-f81dc42c7e0f",
   "metadata": {
    "tags": []
   },
   "outputs": [
    {
     "name": "stderr",
     "output_type": "stream",
     "text": [
      "/home/emfreese/anaconda3/envs/gchp/lib/python3.9/site-packages/xesmf/frontend.py:555: FutureWarning: ``output_sizes`` should be given in the ``dask_gufunc_kwargs`` parameter. It will be removed as direct parameter in a future version.\n",
      "  ds_out = xr.apply_ufunc(\n",
      "/home/emfreese/anaconda3/envs/gchp/lib/python3.9/site-packages/xesmf/frontend.py:555: FutureWarning: ``output_sizes`` should be given in the ``dask_gufunc_kwargs`` parameter. It will be removed as direct parameter in a future version.\n",
      "  ds_out = xr.apply_ufunc(\n",
      "/home/emfreese/anaconda3/envs/gchp/lib/python3.9/site-packages/xesmf/frontend.py:555: FutureWarning: ``output_sizes`` should be given in the ``dask_gufunc_kwargs`` parameter. It will be removed as direct parameter in a future version.\n",
      "  ds_out = xr.apply_ufunc(\n"
     ]
    }
   ],
   "source": [
    "#define our output grid size\n",
    "\n",
    "ds_out = xr.Dataset(\n",
    "    {\n",
    "        \"lat\": ([\"lat\"], np.arange(-89.5, 90.5, 1.0)),\n",
    "        \"lon\": ([\"lon\"], np.arange(0, 360, 1)),\n",
    "        \"lat_b\": ([\"lat_b\"], np.arange(-90.,91.,1.0)),\n",
    "        \"lon_b\":([\"lon_b\"], np.arange(.5, 361.5, 1.0))\n",
    "    }\n",
    ")\n",
    "\n",
    "fg_co2_pictrl_ds = utils._regrid_ds(fg_co2_pictrl_ds, ds_out)\n",
    "nbp_pictrl_ds = utils._regrid_ds(nbp_pictrl_ds, ds_out)\n",
    "#co2_pictrl_ds = utils._regrid_ds(co2_pictrl_ds, ds_out)\n",
    "tas_pictrl_ds = utils._regrid_ds(tas_pictrl_ds, ds_out)"
   ]
  },
  {
   "cell_type": "code",
   "execution_count": 55,
   "id": "51c7055e-3ed7-420a-a060-c770b7625beb",
   "metadata": {},
   "outputs": [],
   "source": [
    "#co2_pictrl_ds = co2_pictrl_ds.weighted(A).mean(dim = ['lat','lon','plev'])\n",
    "nbp_pictrl_ds = nbp_pictrl_ds.weighted(A).sum(dim = ['lat','lon'])\n",
    "fg_co2_pictrl_ds = fg_co2_pictrl_ds.weighted(A).sum(dim = ['lat','lon'])\n",
    "tas_pictrl_ds = tas_pictrl_ds.weighted(A).mean(dim = ['lat','lon'])"
   ]
  },
  {
   "cell_type": "code",
   "execution_count": 56,
   "id": "7e6855c7-8a9c-409f-b131-bd7ef5cba2a5",
   "metadata": {},
   "outputs": [],
   "source": [
    "emis_pictrl = co2_pct.iloc[0].values + nbp_pictrl_ds['nbp'] + fg_co2_pictrl_ds['fgco2']"
   ]
  },
  {
   "cell_type": "code",
   "execution_count": 57,
   "id": "7e127683-0abf-4963-b695-6c4ff7c52ab3",
   "metadata": {},
   "outputs": [],
   "source": [
    "emis_1pct = co2_pct + nbp_pct + fgco2_pct"
   ]
  },
  {
   "cell_type": "code",
   "execution_count": 58,
   "id": "4df9343d-d494-475f-b9b8-626268b5e553",
   "metadata": {
    "tags": []
   },
   "outputs": [],
   "source": [
    "times = pd.date_range('2000', periods=len(tas_pictrl_ds['time'][:12*100]), freq='MS')\n",
    "weights = times.shift(1, 'MS') - times\n",
    "weights = xr.DataArray(weights, [('time', tas_pictrl_ds['time'][:12*100].values)]).astype('float')\n"
   ]
  },
  {
   "cell_type": "code",
   "execution_count": 59,
   "id": "cadbcf0b-4109-4d55-bfd3-94a8c342e06d",
   "metadata": {},
   "outputs": [],
   "source": [
    "tas_pictrl_ds = (tas_pictrl_ds*weights).groupby('time.year').sum('time')/weights.groupby('time.year').sum('time')"
   ]
  },
  {
   "cell_type": "code",
   "execution_count": 60,
   "id": "cdea0e9a-54b5-4c76-810a-62ecb1f8580d",
   "metadata": {},
   "outputs": [],
   "source": [
    "emis_pictrl = (emis_pictrl*weights).groupby('time.year').sum('time')/weights.groupby('time.year').sum('time')"
   ]
  },
  {
   "cell_type": "code",
   "execution_count": 61,
   "id": "fdb2e503-eff8-4f39-a1a7-5a12831faacf",
   "metadata": {},
   "outputs": [],
   "source": [
    "emis_dif = emis_1pct.iloc[:100][1].values - emis_pictrl.values"
   ]
  },
  {
   "cell_type": "code",
   "execution_count": 62,
   "id": "0ddd7171-8f74-4236-a869-63e24266b5f3",
   "metadata": {},
   "outputs": [
    {
     "data": {
      "text/plain": [
       "array([ 19.48776287,  15.38907603,   4.27070161, -18.94546155,\n",
       "        -5.81835519,  16.31464028,  45.79818021, -25.19953491,\n",
       "       -25.20545377,  12.08249963,  12.62296094, -18.84017677,\n",
       "       -24.15786471,   3.64667924,  41.34173826, -26.82732307,\n",
       "        -2.18648792,  28.04456124,   8.42679163,  18.66936149,\n",
       "         7.92393239,  44.2669943 ,  31.95604255,  10.56140488,\n",
       "        31.91618132,  52.30292619,  45.99501493,  48.15674754,\n",
       "        36.27375513,   5.67106163,  72.00618677,  84.33627051,\n",
       "        46.18802431,  55.53286432,  78.08727979, 115.68170821,\n",
       "        54.92477287, 103.05521743, 136.85003911, 127.88522774,\n",
       "        87.22886114, 106.79336392, 164.12179131, 214.84981477,\n",
       "       151.39162622, 127.35786737, 188.53391568, 188.88574078,\n",
       "       207.53987988, 191.17938104, 211.41636854, 200.68623912,\n",
       "       246.87215194, 263.43427702, 250.82708822, 262.20582056,\n",
       "       259.27493549, 247.77115836, 267.88325394, 295.73048243,\n",
       "       313.0196895 , 272.47035398, 275.47175764, 270.01820097,\n",
       "       314.54986875, 344.85239145, 298.23839632, 256.36877839,\n",
       "       307.58497706, 359.83336069, 340.52900484, 281.0437407 ,\n",
       "       275.67488623, 329.37890947, 335.4631648 , 269.144697  ,\n",
       "       253.1876929 , 307.00339531, 320.05645412, 334.35831363,\n",
       "       313.56114199, 259.61804421, 258.8425125 , 227.83031653,\n",
       "       303.36810943, 305.2525201 , 271.40967214, 266.11924914,\n",
       "       293.83063479, 237.44687681, 268.1553168 , 260.68366036,\n",
       "       252.59517971, 283.14102405, 247.69810579, 258.06958925,\n",
       "       245.5885499 , 263.57110512, 277.54608291, 249.03812671])"
      ]
     },
     "execution_count": 62,
     "metadata": {},
     "output_type": "execute_result"
    }
   ],
   "source": [
    "emis_dif"
   ]
  },
  {
   "cell_type": "code",
   "execution_count": 65,
   "id": "fc13007a-ae82-48de-b140-555f963c48a6",
   "metadata": {},
   "outputs": [
    {
     "data": {
      "text/plain": [
       "array([591.06684108, 595.16566456, 607.88090791, 634.94931088,\n",
       "       621.05019518, 596.17167758, 567.85018908, 640.36085862,\n",
       "       641.14409743, 603.81246191, 600.78272473, 631.28760349,\n",
       "       642.92933426, 610.66087743, 570.850361  , 645.99327871,\n",
       "       622.54914484, 586.61004136, 609.48977267, 603.75454782,\n",
       "       619.1379575 , 588.60182275, 604.04791375, 626.18621048,\n",
       "       609.03261723, 590.95488639, 600.41196088, 607.1750626 ,\n",
       "       626.30031175, 649.13052686, 588.50213322, 583.97952564,\n",
       "       634.14628189, 632.69327384, 616.78833195, 580.87442445,\n",
       "       652.34088941, 612.38057943, 586.59745216, 596.74259658,\n",
       "       640.82166942, 631.92850173, 584.10167199, 544.05184974,\n",
       "       623.58893892, 653.75946807, 595.57539508, 607.40014307,\n",
       "       609.78436483, 634.37086634, 612.96123342, 631.2060363 ,\n",
       "       595.38272833, 589.99320907, 615.34562356, 602.54634354,\n",
       "       612.11530524, 632.10905138, 617.51441921, 593.94253743,\n",
       "       580.00565838, 635.59856968, 632.52458334, 630.12719453,\n",
       "       594.49261575, 574.53760894, 621.98017765, 654.0734034 ,\n",
       "       607.61841502, 559.46704877, 581.08217652, 643.56192834,\n",
       "       641.1132086 , 583.55522705, 584.32301492, 642.92507761,\n",
       "       658.27096088, 604.72758838, 592.86798181, 565.34158509,\n",
       "       583.28701848, 637.79528633, 639.22128585, 667.94914022,\n",
       "       592.69845629, 589.6841796 , 627.58518801, 624.12708295,\n",
       "       587.52593706, 644.80731927, 615.86485268, 616.87311477,\n",
       "       622.01982795, 592.09830886, 631.08554145, 615.96536147,\n",
       "       625.9052377 , 604.62783694, 581.91019916, 609.02635397])"
      ]
     },
     "execution_count": 65,
     "metadata": {},
     "output_type": "execute_result"
    }
   ],
   "source": [
    " emis_pictrl.values"
   ]
  },
  {
   "cell_type": "code",
   "execution_count": 63,
   "id": "a81ea68e-2ec2-4ac7-8b8e-f28304e76ff1",
   "metadata": {},
   "outputs": [
    {
     "data": {
      "text/plain": [
       "array([610.55460395, 610.55474059, 612.15160951, 616.00384933,\n",
       "       615.23183999, 612.48631786, 613.64836929, 615.16132371,\n",
       "       615.93864366, 615.89496154, 613.40568566, 612.44742672,\n",
       "       618.77146955, 614.30755667, 612.19209926, 619.16595564,\n",
       "       620.36265692, 614.6546026 , 617.9165643 , 622.42390931,\n",
       "       627.06188989, 632.86881705, 636.00395629, 636.74761535,\n",
       "       640.94879855, 643.25781258, 646.40697581, 655.33181014,\n",
       "       662.57406688, 654.80158849, 660.50831999, 668.31579615,\n",
       "       680.33430621, 688.22613816, 694.87561174, 696.55613266,\n",
       "       707.26566228, 715.43579686, 723.44749127, 724.62782432,\n",
       "       728.05053056, 738.72186564, 748.2234633 , 758.90166451,\n",
       "       774.98056514, 781.11733545, 784.10931076, 796.28588386,\n",
       "       817.32424471, 825.55024738, 824.37760196, 831.89227542,\n",
       "       842.25488027, 853.42748609, 866.17271178, 864.7521641 ,\n",
       "       871.39024074, 879.88020974, 885.39767315, 889.67301986,\n",
       "       893.02534788, 908.06892366, 907.99634098, 900.1453955 ,\n",
       "       909.0424845 , 919.3900004 , 920.21857398, 910.44218178,\n",
       "       915.20339207, 919.30040946, 921.61118136, 924.60566904,\n",
       "       916.78809483, 912.93413652, 919.78617971, 912.06977461,\n",
       "       911.45865378, 911.73098368, 912.92443593, 899.69989871,\n",
       "       896.84816047, 897.41333054, 898.06379835, 895.77945675,\n",
       "       896.06656573, 894.93669969, 898.99486015, 890.24633209,\n",
       "       881.35657185, 882.25419608, 884.02016948, 877.55677513,\n",
       "       874.61500766, 875.23933292, 878.78364724, 874.03495072,\n",
       "       871.4937876 , 868.19894206, 859.45628207, 858.06448069])"
      ]
     },
     "execution_count": 63,
     "metadata": {},
     "output_type": "execute_result"
    }
   ],
   "source": [
    "emis_1pct.iloc[:100][1].values"
   ]
  },
  {
   "cell_type": "markdown",
   "id": "02533215-f966-420c-aaea-e1d870b5daa6",
   "metadata": {},
   "source": [
    "co2_pictrl_ds['co2'].sum(dim = 'plev').plot()"
   ]
  },
  {
   "cell_type": "markdown",
   "id": "265f3bb3-8d1a-410c-a57c-b7a598c4dfd2",
   "metadata": {},
   "source": [
    "emis_pictrl.values"
   ]
  },
  {
   "cell_type": "markdown",
   "id": "e8e6c4d2-2e8b-48fe-8895-7756fba15f4c",
   "metadata": {},
   "source": [
    "emis_1pct.iloc[:100][1].values"
   ]
  },
  {
   "cell_type": "markdown",
   "id": "e54bb6f4-9782-4c7d-a4c8-2ffd3c554816",
   "metadata": {},
   "source": [
    "emis_dif"
   ]
  },
  {
   "cell_type": "code",
   "execution_count": 66,
   "id": "172e5086-21f0-42a6-bf19-3961bd420038",
   "metadata": {},
   "outputs": [],
   "source": [
    "conv_1pct = signal.convolve(emis_dif, np.array(GFDL_mod), 'full')"
   ]
  },
  {
   "cell_type": "code",
   "execution_count": 67,
   "id": "180bb073-58c4-4225-939c-bf34b37748e0",
   "metadata": {},
   "outputs": [
    {
     "data": {
      "text/plain": [
       "[<matplotlib.lines.Line2D at 0x7f1ce9a666a0>]"
      ]
     },
     "execution_count": 67,
     "metadata": {},
     "output_type": "execute_result"
    },
    {
     "data": {
      "image/png": "[encoded data removed]",
      "text/plain": [
       "<Figure size 432x288 with 1 Axes>"
      ]
     },
     "metadata": {
      "needs_background": "light"
     },
     "output_type": "display_data"
    }
   ],
   "source": [
    "plt.plot(tas_pct.iloc[0:100][1].values - tas_pictrl_ds['tas'].values)"
   ]
  },
  {
   "cell_type": "code",
   "execution_count": 68,
   "id": "f5e66e0e-ccdc-46bd-a20d-c564ccfb0e3f",
   "metadata": {},
   "outputs": [
    {
     "data": {
      "text/plain": [
       "[<matplotlib.lines.Line2D at 0x7f1ce9a25e20>]"
      ]
     },
     "execution_count": 68,
     "metadata": {},
     "output_type": "execute_result"
    },
    {
     "data": {
      "image/png": "[encoded data removed]",
      "text/plain": [
       "<Figure size 432x288 with 1 Axes>"
      ]
     },
     "metadata": {
      "needs_background": "light"
     },
     "output_type": "display_data"
    }
   ],
   "source": [
    "plt.plot(conv_1pct)\n"
   ]
  },
  {
   "cell_type": "code",
   "execution_count": null,
   "id": "4824fae4-7f9d-4eb9-9f34-35f02c526817",
   "metadata": {},
   "outputs": [],
   "source": []
  }
 ],
 "metadata": {
  "kernelspec": {
   "display_name": "Python 3 (ipykernel)",
   "language": "python",
   "name": "python3"
  },
  "language_info": {
   "codemirror_mode": {
    "name": "ipython",
    "version": 3
   },
   "file_extension": ".py",
   "mimetype": "text/x-python",
   "name": "python",
   "nbconvert_exporter": "python",
   "pygments_lexer": "ipython3",
   "version": "3.9.6"
  }
 },
 "nbformat": 4,
 "nbformat_minor": 5
}
